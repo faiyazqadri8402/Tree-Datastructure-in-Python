{
 "cells": [
  {
   "cell_type": "code",
   "execution_count": 21,
   "metadata": {},
   "outputs": [],
   "source": [
    "class Node:\n",
    "    def __init__(self,data):\n",
    "        self.data = data\n",
    "        self.left = None\n",
    "        self.right = None\n",
    "        "
   ]
  },
  {
   "cell_type": "code",
   "execution_count": 51,
   "metadata": {},
   "outputs": [],
   "source": [
    "class BST:\n",
    "    def __init__(self):\n",
    "        self.root = None\n",
    "        \n",
    "    def insert(self,data):\n",
    "        if self.root is None:\n",
    "            self.root = Node(data)\n",
    "        else:\n",
    "            self._insert(data,self.root)\n",
    "            \n",
    "    def _insert(self,data,cur_node):\n",
    "        if data < cur_node.data:\n",
    "            if cur_node.left is None:\n",
    "                cur_node.left = Node(data)\n",
    "            else:\n",
    "                self._insert(data,cur_node.left)\n",
    "        elif data > cur_node.data:\n",
    "            if cur_node.right is None:\n",
    "                cur_node.right = Node(data)\n",
    "            else:\n",
    "                self._insert(data,cur_node.right)\n",
    "        else:\n",
    "            print(\"Value is already exists in the tree\")\n",
    "            \n",
    "    def find(self,data):\n",
    "        if self.root:\n",
    "            is_found = self._find(data,self.root)\n",
    "            if is_found:\n",
    "                return True\n",
    "            else:\n",
    "                return False\n",
    "           \n",
    "    def _find(self,data,cur_node):\n",
    "        if data>cur_node.data and cur_node.right:\n",
    "            return self._find(data,cur_node.right)\n",
    "        elif data>cur_node.data and cur_node.left:\n",
    "            return self._find(data,cur_node.left)\n",
    "        if data==cur_node.data:\n",
    "            return True\n",
    "        \n",
    "    def inorder_print(self):\n",
    "        if self.root:\n",
    "            self._inorder_print(self.root)\n",
    "            \n",
    "    def _inorder_print(self,cur_node):\n",
    "        if cur_node:\n",
    "            self._inorder_print(cur_node.left)\n",
    "            print(str(cur_node.data))\n",
    "            self._inorder_print(cur_node.right)\n",
    "            \n",
    "            \n",
    "    def is_bst_satisfied(self):\n",
    "        if self.root:\n",
    "            is_satisfied = self._is_bst_satisfied(self.root,self.root.data)\n",
    "            if is_satisfied is None:\n",
    "                return True\n",
    "            return False\n",
    "        return True\n",
    "    \n",
    "    def _is_bst_satisfied(self,cur_node,data):\n",
    "        if cur_node.left:\n",
    "            if data>cur_node.left.data:\n",
    "                return self._is_bst_satisfied(cur_node.left,cur_node.left.data)\n",
    "            else:\n",
    "                return False\n",
    "        if cur_node.right:\n",
    "            if data<cur_node.right.data:\n",
    "                return self._is_bst_satisfied(cur_node.right,cur_node.right.data)\n",
    "            else:\n",
    "                return False   \n",
    "            \n",
    "        "
   ]
  },
  {
   "cell_type": "code",
   "execution_count": 60,
   "metadata": {},
   "outputs": [],
   "source": [
    "bst = BST()\n"
   ]
  },
  {
   "cell_type": "code",
   "execution_count": 61,
   "metadata": {},
   "outputs": [],
   "source": [
    "bst.insert(8)\n",
    "bst.insert(3)\n",
    "bst.insert(10)\n",
    "bst.insert(1)\n",
    "bst.insert(6)\n",
    "bst.insert(9)\n",
    "bst.insert(11)\n",
    "\n",
    "\n",
    "\n"
   ]
  },
  {
   "cell_type": "code",
   "execution_count": 57,
   "metadata": {},
   "outputs": [
    {
     "name": "stdout",
     "output_type": "stream",
     "text": [
      "1\n",
      "3\n",
      "6\n",
      "8\n",
      "9\n",
      "10\n",
      "11\n",
      "None\n"
     ]
    }
   ],
   "source": [
    "print(bst.inorder_print())"
   ]
  },
  {
   "cell_type": "code",
   "execution_count": 58,
   "metadata": {},
   "outputs": [
    {
     "name": "stdout",
     "output_type": "stream",
     "text": [
      "True\n"
     ]
    }
   ],
   "source": [
    "print(bst.is_bst_satisfied())"
   ]
  },
  {
   "cell_type": "code",
   "execution_count": 62,
   "metadata": {},
   "outputs": [],
   "source": [
    "tree = BST()\n",
    "tree.root = Node(1)\n",
    "tree.root.left = Node(2)\n",
    "tree.root.right = Node(3)\n"
   ]
  },
  {
   "cell_type": "code",
   "execution_count": 63,
   "metadata": {},
   "outputs": [
    {
     "name": "stdout",
     "output_type": "stream",
     "text": [
      "True\n"
     ]
    }
   ],
   "source": [
    "print(bst.is_bst_satisfied())"
   ]
  },
  {
   "cell_type": "code",
   "execution_count": 64,
   "metadata": {},
   "outputs": [
    {
     "name": "stdout",
     "output_type": "stream",
     "text": [
      "False\n"
     ]
    }
   ],
   "source": [
    "print(tree.is_bst_satisfied())"
   ]
  },
  {
   "cell_type": "code",
   "execution_count": null,
   "metadata": {},
   "outputs": [],
   "source": []
  }
 ],
 "metadata": {
  "kernelspec": {
   "display_name": "Python 3",
   "language": "python",
   "name": "python3"
  },
  "language_info": {
   "codemirror_mode": {
    "name": "ipython",
    "version": 3
   },
   "file_extension": ".py",
   "mimetype": "text/x-python",
   "name": "python",
   "nbconvert_exporter": "python",
   "pygments_lexer": "ipython3",
   "version": "3.6.8"
  }
 },
 "nbformat": 4,
 "nbformat_minor": 4
}
