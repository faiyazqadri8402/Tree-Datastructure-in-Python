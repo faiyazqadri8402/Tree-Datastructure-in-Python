{
 "cells": [
  {
   "cell_type": "code",
   "execution_count": 76,
   "metadata": {},
   "outputs": [],
   "source": [
    "class Queue(object):\n",
    "    def __init__(self):\n",
    "        self.items = []\n",
    "    def enqueue(self,item):\n",
    "        self.items.insert(0,item)\n",
    "    def dequeue(self):\n",
    "        if not self.is_empty():\n",
    "            return self.items.pop()\n",
    "    def is_empty(self):\n",
    "        return len(self.items)==0\n",
    "    def peek(self):\n",
    "        if not self.is_empty():\n",
    "            return self.items[-1].value\n",
    "    def __len__(self):\n",
    "        return self.size()\n",
    "    def size(self):\n",
    "        return len(self.items)"
   ]
  },
  {
   "cell_type": "code",
   "execution_count": 77,
   "metadata": {},
   "outputs": [],
   "source": [
    "class Stack(object):\n",
    "    def __init__(self):\n",
    "        self.items = []\n",
    "    def push(self,item):\n",
    "        self.items.append(item)\n",
    "    def pop(self):\n",
    "        if not self.is_empty():\n",
    "            return self.items.pop()\n",
    "    def is_empty(self):\n",
    "        return len(self.items)==0\n",
    "    def peek(self):\n",
    "        return self.items[-1]\n",
    "    def __len__(self):\n",
    "        return self.size()\n",
    "    def size(self):\n",
    "        return len(self.items)"
   ]
  },
  {
   "cell_type": "code",
   "execution_count": 78,
   "metadata": {},
   "outputs": [],
   "source": [
    "class Node(object):\n",
    "    def __init__(self,value):\n",
    "        self.value=value\n",
    "        self.left = None\n",
    "        self.right = None"
   ]
  },
  {
   "cell_type": "code",
   "execution_count": null,
   "metadata": {},
   "outputs": [],
   "source": []
  },
  {
   "cell_type": "code",
   "execution_count": 79,
   "metadata": {},
   "outputs": [],
   "source": [
    "class BinaryTree(object):\n",
    "    def __init__(self,root):\n",
    "        self.root = Node(root)\n",
    "    def print_tree(self,traversal_type):\n",
    "        if(traversal_type==\"preorder\"):\n",
    "            return self.preorder_print(tree.root, \"\")\n",
    "        elif traversal_type=='inorder':\n",
    "            return self.inorder_print(tree.root, \"\")\n",
    "        elif traversal_type=='postorder':\n",
    "            return self.postorder_print(tree.root, \"\")\n",
    "        elif traversal_type =='levelorder':\n",
    "            return self.levelorder_print(tree.root)\n",
    "        elif traversal_type == 'reverselevelorder':\n",
    "            return self.reverse_levelorder_print(tree.root)\n",
    "        else:\n",
    "            print(\"Traveesal type\" + str(traversal_type) + \"not supported.\")\n",
    "            return False\n",
    "        \n",
    "    # preorder traversal\n",
    "    def preorder_print(self,start,traversal):\n",
    "        if start:\n",
    "            traversal+=(str(start.value) + \"-\")\n",
    "            traversal = self.preorder_print(start.left,traversal)\n",
    "            traversal = self.preorder_print(start.right,traversal)\n",
    "        return traversal \n",
    "    \n",
    "    # inorder traversal\n",
    "    def inorder_print(self,start,traversal):\n",
    "        if start:\n",
    "            traversal = self.inorder_print(start.left,traversal)\n",
    "            traversal+=(str(start.value) + \"-\")\n",
    "            traversal = self.inorder_print(start.right,traversal)\n",
    "        return traversal  \n",
    "    \n",
    "    # postorder traversal\n",
    "    def postorder_print(self,start,traversal):\n",
    "        if start:\n",
    "            traversal = self.postorder_print(start.left,traversal)\n",
    "            traversal = self.postorder_print(start.right,traversal)\n",
    "            traversal+=(str(start.value) + \"-\")\n",
    "        return traversal\n",
    "    \n",
    "    # level order traversal\n",
    "    def levelorder_print(self,start):\n",
    "        if start is None:\n",
    "            return\n",
    "        queue = Queue()\n",
    "        queue.enqueue(start)\n",
    "        traversal = \"\"\n",
    "        while len(queue)>0:\n",
    "            traversal+=str(queue.peek()) + \"-\"\n",
    "            node = queue.dequeue()\n",
    "            \n",
    "            if node.left:\n",
    "                queue.enqueue(node.left)\n",
    "            if node.right:\n",
    "                queue.enqueue(node.right)\n",
    "        return traversal \n",
    "    \n",
    "    # reverse levelorder traversal\n",
    "    def reverse_levelorder_print(self,start):\n",
    "        if start is None:\n",
    "            return \n",
    "        queue = Queue()\n",
    "        stack = Stack()\n",
    "        queue.enqueue(start)\n",
    "        traversal = \"\"\n",
    "        while len(queue)>0:\n",
    "            node = queue.dequeue()\n",
    "            stack.push(node)\n",
    "            \n",
    "            if node.right:\n",
    "                queue.enqueue(node.right)\n",
    "            if node.left:\n",
    "                queue.enqueue(node.left)\n",
    "        while len(stack)>0:\n",
    "            node = stack.pop()\n",
    "            traversal+=str(node.value) + \"-\"\n",
    "        return traversal    \n",
    "    \n",
    "    # Height of a tree\n",
    "    def height(self,node):\n",
    "        if node is None:\n",
    "            return -1\n",
    "        left_height = self.height(node.left)\n",
    "        right_height = self.height(node.right)\n",
    "        \n",
    "        return 1+max(left_height, right_height)\n",
    "    \n",
    "    # Size of a tree\n",
    "    def size(self):\n",
    "        if self.root is None:\n",
    "            return 0\n",
    "        stack = Stack()\n",
    "        stack.push(self.root)\n",
    "        size = 1\n",
    "        while stack:\n",
    "            node = stack.pop()\n",
    "            if node.left:\n",
    "                size+=1\n",
    "                stack.push(node.left)\n",
    "            if node.right:\n",
    "                size+=1\n",
    "                stack.push(node.right)\n",
    "        return size   \n",
    "    \n",
    "    # recursive function to find size of tree\n",
    "    def size_(self,node):\n",
    "        if node is None:\n",
    "            return 0\n",
    "        return 1+ self.size_(node.left)+self.size_(node.right)\n",
    "                \n",
    "            \n",
    "        \n",
    "    "
   ]
  },
  {
   "cell_type": "code",
   "execution_count": 80,
   "metadata": {},
   "outputs": [],
   "source": [
    "tree = BinaryTree(1)\n",
    "tree.root.left = Node(2)\n",
    "tree.root.right = Node(3)\n",
    "tree.root.left.left = Node(4)\n",
    "tree.root.left.right = Node(5)\n"
   ]
  },
  {
   "cell_type": "code",
   "execution_count": 81,
   "metadata": {},
   "outputs": [
    {
     "name": "stdout",
     "output_type": "stream",
     "text": [
      "1-2-4-5-3-\n"
     ]
    }
   ],
   "source": [
    "print(tree.print_tree(\"preorder\"))"
   ]
  },
  {
   "cell_type": "code",
   "execution_count": 82,
   "metadata": {},
   "outputs": [
    {
     "name": "stdout",
     "output_type": "stream",
     "text": [
      "4-2-5-1-3-\n"
     ]
    }
   ],
   "source": [
    "print(tree.print_tree(\"inorder\"))"
   ]
  },
  {
   "cell_type": "code",
   "execution_count": 83,
   "metadata": {},
   "outputs": [
    {
     "name": "stdout",
     "output_type": "stream",
     "text": [
      "4-5-2-3-1-\n"
     ]
    }
   ],
   "source": [
    "print(tree.print_tree(\"postorder\"))"
   ]
  },
  {
   "cell_type": "code",
   "execution_count": 84,
   "metadata": {},
   "outputs": [
    {
     "name": "stdout",
     "output_type": "stream",
     "text": [
      "1-2-3-4-5-\n"
     ]
    }
   ],
   "source": [
    "print(tree.print_tree('levelorder'))"
   ]
  },
  {
   "cell_type": "code",
   "execution_count": 85,
   "metadata": {},
   "outputs": [
    {
     "name": "stdout",
     "output_type": "stream",
     "text": [
      "4-5-2-3-1-\n"
     ]
    }
   ],
   "source": [
    "print(tree.print_tree('reverselevelorder'))"
   ]
  },
  {
   "cell_type": "code",
   "execution_count": 86,
   "metadata": {},
   "outputs": [
    {
     "name": "stdout",
     "output_type": "stream",
     "text": [
      "2\n"
     ]
    }
   ],
   "source": [
    "print(tree.height(tree.root))"
   ]
  },
  {
   "cell_type": "code",
   "execution_count": 87,
   "metadata": {},
   "outputs": [
    {
     "name": "stdout",
     "output_type": "stream",
     "text": [
      "5\n"
     ]
    }
   ],
   "source": [
    "print(tree.size())"
   ]
  },
  {
   "cell_type": "code",
   "execution_count": 88,
   "metadata": {},
   "outputs": [
    {
     "name": "stdout",
     "output_type": "stream",
     "text": [
      "5\n"
     ]
    }
   ],
   "source": [
    "print(tree.size_(tree.root))"
   ]
  },
  {
   "cell_type": "code",
   "execution_count": null,
   "metadata": {},
   "outputs": [],
   "source": []
  }
 ],
 "metadata": {
  "kernelspec": {
   "display_name": "Python 3",
   "language": "python",
   "name": "python3"
  },
  "language_info": {
   "codemirror_mode": {
    "name": "ipython",
    "version": 3
   },
   "file_extension": ".py",
   "mimetype": "text/x-python",
   "name": "python",
   "nbconvert_exporter": "python",
   "pygments_lexer": "ipython3",
   "version": "3.6.8"
  }
 },
 "nbformat": 4,
 "nbformat_minor": 4
}
